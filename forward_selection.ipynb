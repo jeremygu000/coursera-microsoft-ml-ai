{
 "cells": [
  {
   "cell_type": "code",
   "execution_count": 1,
   "id": "fd5b7cef",
   "metadata": {},
   "outputs": [],
   "source": [
    "import pandas as pd\n",
    "from sklearn.linear_model import LinearRegression\n",
    "from sklearn.model_selection import train_test_split\n",
    "from sklearn.metrics import r2_score"
   ]
  },
  {
   "cell_type": "code",
   "execution_count": 2,
   "id": "5e756497",
   "metadata": {},
   "outputs": [],
   "source": [
    "# Sample dataset: Study hours, previous exam scores, and pass/fail labels\n",
    "data = {\n",
    "    'StudyHours': [1, 2, 3, 4, 5, 6, 7, 8, 9, 10],\n",
    "    'PrevExamScore': [30, 40, 45, 50, 60, 65, 70, 75, 80, 85],\n",
    "    'Pass': [0, 0, 0, 0, 0, 1, 1, 1, 1, 1]  # 0 = Fail, 1 = Pass\n",
    "}\n",
    "\n",
    "df = pd.DataFrame(data)\n",
    "\n",
    "# Features and target variable\n",
    "X = df[['StudyHours', 'PrevExamScore']]\n",
    "y = df['Pass']"
   ]
  },
  {
   "cell_type": "code",
   "execution_count": 3,
   "id": "8cfebe1a",
   "metadata": {},
   "outputs": [
    {
     "name": "stdout",
     "output_type": "stream",
     "text": [
      "Selected features using Forward Selection: ['PrevExamScore']\n"
     ]
    }
   ],
   "source": [
    "def forward_selection(X, y):\n",
    "    remaining_features = set(X.columns)\n",
    "    selected_features = []\n",
    "    current_score = 0.0\n",
    "    best_score = 0.0\n",
    "    \n",
    "    while remaining_features:\n",
    "        scores_with_candidates = []\n",
    "        \n",
    "        # Loop through remaining features\n",
    "        for feature in remaining_features:\n",
    "            features_to_test = selected_features + [feature]\n",
    "            X_train, X_test, y_train, y_test = train_test_split(X[features_to_test], y, test_size=0.2, random_state=42)\n",
    "            \n",
    "            # Train the model\n",
    "            model = LinearRegression()\n",
    "            model.fit(X_train, y_train)\n",
    "            \n",
    "            # Make predictions and calculate R-squared\n",
    "            y_pred = model.predict(X_test)\n",
    "            score = r2_score(y_test, y_pred)\n",
    "            \n",
    "            # Record the score with the current feature\n",
    "            scores_with_candidates.append((score, feature))\n",
    "        \n",
    "        # Sort candidates by score (highest score first)\n",
    "        scores_with_candidates.sort(reverse=True)\n",
    "        best_score, best_feature = scores_with_candidates[0]\n",
    "        \n",
    "        # If adding the feature improves the score, add it to the model\n",
    "        if current_score < best_score:\n",
    "            remaining_features.remove(best_feature)\n",
    "            selected_features.append(best_feature)\n",
    "            current_score = best_score\n",
    "        else:\n",
    "            break\n",
    "    \n",
    "    return selected_features\n",
    "\n",
    "# Run forward selection\n",
    "best_features = forward_selection(X, y)\n",
    "print(\"Selected features using Forward Selection:\", best_features)"
   ]
  },
  {
   "cell_type": "markdown",
   "id": "082ecbbc",
   "metadata": {},
   "source": [
    "## 为什么用 SequentialFeatureSelector + Pipeline 更好？ / Why SFS + Pipeline is better\n",
    "\n",
    "- **避免数据泄漏 / Avoid data leakage**  \n",
    "  通过 `Pipeline` 在**每个交叉验证折内**拟合 `StandardScaler`，不把测试信息泄漏到训练里。\n",
    "\n",
    "- **用交叉验证驱动选择 / Selection driven by CV**  \n",
    "  不再在同一 hold-out 集上反复试探（乐观偏差），而是用 K 折平均性能做稳健评估。\n",
    "\n",
    "- **尺度公平 & 可比的系数 / Scale fairness & comparable effects**  \n",
    "  标准化让 L1/L2 惩罚对不同量纲**一视同仁**；系数/重要性可以跨特征比较。\n",
    "\n",
    "- **与正则化模型无缝结合 / Works seamlessly with regularized estimators**  \n",
    "  可直接换成 `RidgeCV` / `LassoCV` / `ElasticNetCV`，在**强共线**场景更稳定，还能自动调参。\n",
    "\n",
    "- **更可靠的选择结果 / More reliable selections**  \n",
    "  CV 平均减少偶然性，小样本下也更稳；支持 `scoring` 自定义指标（R²、AUC、F1 等）。\n",
    "\n",
    "- **工程友好 / Engineering-friendly**  \n",
    "  `get_support()` 一步拿到所选特征，`n_jobs` 并行更快，`random_state` 保证可复现；代码更少、维护更容易。\n",
    "\n",
    "> 简而言之：**SFS + Pipeline = 无泄漏 + 公平正则 + CV 稳健评估 + 可复现**  \n",
    "> In short: **SFS + Pipeline = no leakage + fair regularization + CV-robust evaluation + reproducibility**.\n"
   ]
  },
  {
   "cell_type": "code",
   "execution_count": 7,
   "id": "9743c0e5",
   "metadata": {},
   "outputs": [
    {
     "name": "stdout",
     "output_type": "stream",
     "text": [
      "Selected features: ['StudyHours']\n"
     ]
    }
   ],
   "source": [
    "from sklearn.feature_selection import SequentialFeatureSelector\n",
    "from sklearn.pipeline import Pipeline\n",
    "from sklearn.preprocessing import StandardScaler\n",
    "from sklearn.linear_model import RidgeCV  # 可换成 LassoCV/ElasticNetCV\n",
    "import numpy as np\n",
    "\n",
    "import warnings\n",
    "from sklearn.exceptions import UndefinedMetricWarning\n",
    "\n",
    "# warnings.filterwarnings(\"ignore\", category=UndefinedMetricWarning)\n",
    "warnings.filterwarnings(\"ignore\")\n",
    "\n",
    "pipe = Pipeline([\n",
    "    ('scaler', StandardScaler()),\n",
    "    ('est', RidgeCV(alphas=np.logspace(-3,3,13), cv=5))\n",
    "])\n",
    "\n",
    "sfs = SequentialFeatureSelector(\n",
    "    pipe, direction='forward', scoring='r2', cv=5, n_jobs=-1\n",
    ")\n",
    "sfs.fit(X, y)\n",
    "selected = X.columns[sfs.get_support()]\n",
    "print(\"Selected features:\", list(selected))"
   ]
  }
 ],
 "metadata": {
  "kernelspec": {
   "display_name": "coursera-microsoft-ml-ai",
   "language": "python",
   "name": "python3"
  },
  "language_info": {
   "codemirror_mode": {
    "name": "ipython",
    "version": 3
   },
   "file_extension": ".py",
   "mimetype": "text/x-python",
   "name": "python",
   "nbconvert_exporter": "python",
   "pygments_lexer": "ipython3",
   "version": "3.12.7"
  }
 },
 "nbformat": 4,
 "nbformat_minor": 5
}
